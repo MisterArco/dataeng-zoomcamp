{
 "cells": [
  {
   "cell_type": "code",
   "execution_count": 1,
   "id": "6f90adb6-6e63-4a7e-a798-0d80ced548bf",
   "metadata": {},
   "outputs": [],
   "source": [
    "import pyspark\n",
    "from pyspark.sql import SparkSession\n",
    "\n",
    "spark = SparkSession.builder \\\n",
    "    .master(\"local[*]\") \\\n",
    "    .appName('test') \\\n",
    "    .getOrCreate()"
   ]
  },
  {
   "cell_type": "code",
   "execution_count": 2,
   "id": "5a3476fb-2a27-499a-a618-a9e1dd0db875",
   "metadata": {},
   "outputs": [],
   "source": [
    "df_green = spark.read.parquet('data/pq/green/*/*')"
   ]
  },
  {
   "cell_type": "code",
   "execution_count": 4,
   "id": "ed601edb-7a49-4c82-a632-b6b23b6fab4d",
   "metadata": {},
   "outputs": [
    {
     "name": "stderr",
     "output_type": "stream",
     "text": [
      "C:\\tools\\spark-3.3.2-bin-hadoop3\\python\\pyspark\\sql\\dataframe.py:229: FutureWarning: Deprecated in 2.0, use createOrReplaceTempView instead.\n",
      "  warnings.warn(\"Deprecated in 2.0, use createOrReplaceTempView instead.\", FutureWarning)\n"
     ]
    }
   ],
   "source": [
    "df_green.registerTempTable('green')"
   ]
  },
  {
   "cell_type": "code",
   "execution_count": 7,
   "id": "061bb34e-b05d-4b07-a6fe-b8a9df0c9a84",
   "metadata": {},
   "outputs": [],
   "source": [
    "df_green_revenue = spark.sql(\"\"\"\n",
    "SELECT \n",
    "    date_trunc('hour', lpep_pickup_datetime) AS hour, \n",
    "    PULocationID AS zone,\n",
    "    SUM(total_amount) AS amount,\n",
    "    COUNT(1) AS number_records\n",
    "FROM\n",
    "    green\n",
    "WHERE\n",
    "    lpep_pickup_datetime >= '2020-01-01 00:00:00'\n",
    "GROUP BY\n",
    "    1, 2\n",
    "\"\"\")"
   ]
  },
  {
   "cell_type": "code",
   "execution_count": 8,
   "id": "cf18adf3-14d7-4c14-a9eb-60ee47da2731",
   "metadata": {},
   "outputs": [
    {
     "name": "stdout",
     "output_type": "stream",
     "text": [
      "+-------------------+----+------------------+--------------+\n",
      "|               hour|zone|            amount|number_records|\n",
      "+-------------------+----+------------------+--------------+\n",
      "|2020-01-09 17:00:00| 225|             82.46|             5|\n",
      "|2020-01-02 21:00:00|  74| 506.4200000000001|            38|\n",
      "|2020-01-27 13:00:00|  24|            203.57|             7|\n",
      "|2020-01-06 16:00:00|  43|343.68000000000006|            21|\n",
      "|2020-01-05 08:00:00|  55|132.51999999999998|             4|\n",
      "|2020-01-20 15:00:00|  82|            380.22|            27|\n",
      "|2020-01-28 22:00:00| 255|217.10999999999999|            13|\n",
      "|2020-01-27 09:00:00| 177|             102.8|             3|\n",
      "|2020-01-26 20:00:00|  35|             48.61|             2|\n",
      "|2020-01-29 08:00:00| 223|            119.93|             8|\n",
      "|2020-01-16 10:00:00|  82|273.62000000000006|            18|\n",
      "|2020-01-24 18:00:00| 210|            124.58|             6|\n",
      "|2020-01-02 23:00:00|  66|            258.49|            11|\n",
      "|2020-01-14 14:00:00| 226| 99.13999999999999|             3|\n",
      "|2020-01-27 09:00:00|  14|59.849999999999994|             5|\n",
      "|2020-01-15 19:00:00| 181|227.19000000000003|            12|\n",
      "|2020-01-24 18:00:00| 260| 383.2900000000001|            28|\n",
      "|2020-01-02 10:00:00|   7|217.29000000000002|            17|\n",
      "|2020-01-21 20:00:00| 152|             83.39|             4|\n",
      "|2020-01-20 09:00:00|  17|            233.07|             7|\n",
      "+-------------------+----+------------------+--------------+\n",
      "only showing top 20 rows\n",
      "\n"
     ]
    }
   ],
   "source": [
    "df_green_revenue.show()"
   ]
  },
  {
   "cell_type": "code",
   "execution_count": 9,
   "id": "7c0d2c84-698e-4a6e-82f1-47ed3c20385e",
   "metadata": {},
   "outputs": [],
   "source": [
    "df_green_revenue \\\n",
    "    .repartition(20) \\\n",
    "    .write.parquet('data/report/revenue/green', mode='overwrite')"
   ]
  },
  {
   "cell_type": "code",
   "execution_count": 10,
   "id": "12ae3abb-5b8a-4162-9dcb-8bca08571843",
   "metadata": {},
   "outputs": [
    {
     "name": "stderr",
     "output_type": "stream",
     "text": [
      "C:\\tools\\spark-3.3.2-bin-hadoop3\\python\\pyspark\\sql\\dataframe.py:229: FutureWarning: Deprecated in 2.0, use createOrReplaceTempView instead.\n",
      "  warnings.warn(\"Deprecated in 2.0, use createOrReplaceTempView instead.\", FutureWarning)\n"
     ]
    }
   ],
   "source": [
    "df_yellow = spark.read.parquet('data/pq/yellow/*/*')\n",
    "df_yellow.registerTempTable('yellow')"
   ]
  },
  {
   "cell_type": "code",
   "execution_count": 11,
   "id": "8b125c6a-86be-4b58-8c59-6ed595a4e0e4",
   "metadata": {},
   "outputs": [],
   "source": [
    "df_yellow_revenue = spark.sql(\"\"\"\n",
    "SELECT \n",
    "    date_trunc('hour', tpep_pickup_datetime) AS hour, \n",
    "    PULocationID AS zone,\n",
    "\n",
    "    SUM(total_amount) AS amount,\n",
    "    COUNT(1) AS number_records\n",
    "FROM\n",
    "    yellow\n",
    "WHERE\n",
    "    tpep_pickup_datetime >= '2020-01-01 00:00:00'\n",
    "GROUP BY\n",
    "    1, 2\n",
    "\"\"\")"
   ]
  },
  {
   "cell_type": "code",
   "execution_count": 12,
   "id": "5856d109-7189-4fff-ac82-cce488feb96b",
   "metadata": {},
   "outputs": [],
   "source": [
    "df_yellow_revenue \\\n",
    "    .repartition(20) \\\n",
    "    .write.parquet('data/report/revenue/yellow', mode='overwrite')"
   ]
  },
  {
   "cell_type": "code",
   "execution_count": 13,
   "id": "eab917d3-ad9e-46e3-b157-54277ceecd70",
   "metadata": {},
   "outputs": [],
   "source": [
    "df_green_revenue = spark.read.parquet('data/report/revenue/green')\n",
    "df_yellow_revenue = spark.read.parquet('data/report/revenue/yellow')"
   ]
  },
  {
   "cell_type": "code",
   "execution_count": 14,
   "id": "a2289296-f350-4454-9a39-b99c8019bde1",
   "metadata": {},
   "outputs": [],
   "source": [
    "df_green_revenue_tmp = df_green_revenue \\\n",
    "    .withColumnRenamed('amount', 'green_amount') \\\n",
    "    .withColumnRenamed('number_records', 'green_number_records')\n",
    "\n",
    "df_yellow_revenue_tmp = df_yellow_revenue \\\n",
    "    .withColumnRenamed('amount', 'yellow_amount') \\\n",
    "    .withColumnRenamed('number_records', 'yellow_number_records')"
   ]
  },
  {
   "cell_type": "code",
   "execution_count": 15,
   "id": "fb9dc4db-bf5c-4e74-9def-06afdaf25eb4",
   "metadata": {},
   "outputs": [],
   "source": [
    "df_join = df_green_revenue_tmp.join(df_yellow_revenue_tmp, on=['hour', 'zone'], how='outer')"
   ]
  },
  {
   "cell_type": "code",
   "execution_count": 16,
   "id": "909d0084-9ec8-4523-a3d0-82aba846e6b9",
   "metadata": {},
   "outputs": [
    {
     "name": "stdout",
     "output_type": "stream",
     "text": [
      "+-------------------+----+------------------+--------------------+------------------+---------------------+\n",
      "|               hour|zone|      green_amount|green_number_records|     yellow_amount|yellow_number_records|\n",
      "+-------------------+----+------------------+--------------------+------------------+---------------------+\n",
      "|2020-01-01 00:00:00|  65|199.48999999999998|                  10|            409.35|                   19|\n",
      "|2020-01-01 00:00:00|  68|              null|                null| 7825.069999999994|                  396|\n",
      "|2020-01-01 00:00:00|  88|              null|                null| 823.8000000000001|                   36|\n",
      "|2020-01-01 00:00:00|  93|              null|                null|            210.28|                    3|\n",
      "|2020-01-01 00:00:00| 106|             10.56|                   1|              null|                 null|\n",
      "|2020-01-01 00:00:00| 248|              null|                null|              25.5|                    1|\n",
      "|2020-01-01 01:00:00|  13|              null|                null|1569.2399999999998|                   66|\n",
      "|2020-01-01 01:00:00|  18|              null|                null|              36.0|                    1|\n",
      "|2020-01-01 01:00:00| 115|              null|                null|              54.6|                    1|\n",
      "|2020-01-01 01:00:00| 126|              15.8|                   1|47.599999999999994|                    3|\n",
      "|2020-01-01 02:00:00|  21|             43.95|                   2|              null|                 null|\n",
      "|2020-01-01 02:00:00|  35|            193.82|                   5|            104.94|                    3|\n",
      "|2020-01-01 02:00:00|  47|              null|                null|             30.32|                    1|\n",
      "|2020-01-01 02:00:00|  60|              null|                null|             35.18|                    1|\n",
      "|2020-01-01 02:00:00|  68|              null|                null|7805.6799999999985|                  386|\n",
      "|2020-01-01 02:00:00|  77|            137.72|                   5|             97.03|                    2|\n",
      "|2020-01-01 02:00:00| 108|              20.8|                   1|              null|                 null|\n",
      "|2020-01-01 02:00:00| 125|              null|                null|           1753.19|                   74|\n",
      "|2020-01-01 02:00:00| 212|164.26999999999998|                   4|               7.3|                    1|\n",
      "|2020-01-01 02:00:00| 220|              34.3|                   1|              11.8|                    1|\n",
      "+-------------------+----+------------------+--------------------+------------------+---------------------+\n",
      "only showing top 20 rows\n",
      "\n"
     ]
    }
   ],
   "source": [
    "df_join.show()"
   ]
  },
  {
   "cell_type": "code",
   "execution_count": 17,
   "id": "f1089ace-4514-4f0a-a6f6-d8981f27b400",
   "metadata": {},
   "outputs": [],
   "source": [
    "df_join.write.parquet('data/report/revenue/total', mode='overwrite')"
   ]
  },
  {
   "cell_type": "code",
   "execution_count": 18,
   "id": "c6e939b7-2fd0-457f-bffc-b92618fc5498",
   "metadata": {},
   "outputs": [],
   "source": [
    "df_join = spark.read.parquet('data/report/revenue/total')"
   ]
  },
  {
   "cell_type": "code",
   "execution_count": 19,
   "id": "2923fa01-8817-49d9-8455-d3eee6d351f9",
   "metadata": {},
   "outputs": [
    {
     "data": {
      "text/plain": [
       "DataFrame[hour: timestamp, zone: int, green_amount: double, green_number_records: bigint, yellow_amount: double, yellow_number_records: bigint]"
      ]
     },
     "execution_count": 19,
     "metadata": {},
     "output_type": "execute_result"
    }
   ],
   "source": [
    "df_join"
   ]
  },
  {
   "cell_type": "code",
   "execution_count": 20,
   "id": "27cfb3fa-4f16-4e1d-8e3f-7d7feb1a3368",
   "metadata": {},
   "outputs": [],
   "source": [
    "df_zones = spark.read.parquet('zones/')"
   ]
  },
  {
   "cell_type": "code",
   "execution_count": 21,
   "id": "2d6db031-a6d0-4b42-8112-500adacca874",
   "metadata": {},
   "outputs": [
    {
     "name": "stdout",
     "output_type": "stream",
     "text": [
      "+----------+-------------+--------------------+------------+\n",
      "|LocationID|      Borough|                Zone|service_zone|\n",
      "+----------+-------------+--------------------+------------+\n",
      "|         1|          EWR|      Newark Airport|         EWR|\n",
      "|         2|       Queens|         Jamaica Bay|   Boro Zone|\n",
      "|         3|        Bronx|Allerton/Pelham G...|   Boro Zone|\n",
      "|         4|    Manhattan|       Alphabet City| Yellow Zone|\n",
      "|         5|Staten Island|       Arden Heights|   Boro Zone|\n",
      "|         6|Staten Island|Arrochar/Fort Wad...|   Boro Zone|\n",
      "|         7|       Queens|             Astoria|   Boro Zone|\n",
      "|         8|       Queens|        Astoria Park|   Boro Zone|\n",
      "|         9|       Queens|          Auburndale|   Boro Zone|\n",
      "|        10|       Queens|        Baisley Park|   Boro Zone|\n",
      "|        11|     Brooklyn|          Bath Beach|   Boro Zone|\n",
      "|        12|    Manhattan|        Battery Park| Yellow Zone|\n",
      "|        13|    Manhattan|   Battery Park City| Yellow Zone|\n",
      "|        14|     Brooklyn|           Bay Ridge|   Boro Zone|\n",
      "|        15|       Queens|Bay Terrace/Fort ...|   Boro Zone|\n",
      "|        16|       Queens|             Bayside|   Boro Zone|\n",
      "|        17|     Brooklyn|             Bedford|   Boro Zone|\n",
      "|        18|        Bronx|        Bedford Park|   Boro Zone|\n",
      "|        19|       Queens|           Bellerose|   Boro Zone|\n",
      "|        20|        Bronx|             Belmont|   Boro Zone|\n",
      "+----------+-------------+--------------------+------------+\n",
      "only showing top 20 rows\n",
      "\n"
     ]
    }
   ],
   "source": [
    "df_zones.show()"
   ]
  },
  {
   "cell_type": "code",
   "execution_count": 22,
   "id": "9cf1fa51-61f3-416a-bf9c-970c697eca46",
   "metadata": {},
   "outputs": [],
   "source": [
    "df_result = df_join.join(df_zones, df_join.zone == df_zones.LocationID)"
   ]
  },
  {
   "cell_type": "code",
   "execution_count": 23,
   "id": "1123967e-f14b-4ac4-b2d5-d0f88e080f8c",
   "metadata": {},
   "outputs": [
    {
     "name": "stdout",
     "output_type": "stream",
     "text": [
      "+-------------------+----+------------------+--------------------+------------------+---------------------+----------+---------+--------------------+------------+\n",
      "|               hour|zone|      green_amount|green_number_records|     yellow_amount|yellow_number_records|LocationID|  Borough|                Zone|service_zone|\n",
      "+-------------------+----+------------------+--------------------+------------------+---------------------+----------+---------+--------------------+------------+\n",
      "|2020-01-01 00:00:00|  34|              null|                null|              19.3|                    1|        34| Brooklyn|  Brooklyn Navy Yard|   Boro Zone|\n",
      "|2020-01-01 00:00:00|  36|            295.34|                  11|            109.17|                    3|        36| Brooklyn|      Bushwick North|   Boro Zone|\n",
      "|2020-01-01 00:00:00|  61|            526.71|                  17|            146.64|                    3|        61| Brooklyn| Crown Heights North|   Boro Zone|\n",
      "|2020-01-01 00:00:00|  82|305.12000000000006|                  28|              29.8|                    1|        82|   Queens|            Elmhurst|   Boro Zone|\n",
      "|2020-01-01 00:00:00| 160|              11.3|                   1|              null|                 null|       160|   Queens|      Middle Village|   Boro Zone|\n",
      "|2020-01-01 00:00:00| 164|              null|                null| 5448.929999999997|                  292|       164|Manhattan|       Midtown South| Yellow Zone|\n",
      "|2020-01-01 00:00:00| 179|             87.32|                   5|213.29000000000002|                   10|       179|   Queens|         Old Astoria|   Boro Zone|\n",
      "|2020-01-01 00:00:00| 198|            195.11|                   5|            138.89|                    4|       198|   Queens|           Ridgewood|   Boro Zone|\n",
      "|2020-01-01 00:00:00| 231|              null|                null| 4822.659999999996|                  245|       231|Manhattan|TriBeCa/Civic Center| Yellow Zone|\n",
      "|2020-01-01 01:00:00|  34|              null|                null|             19.89|                    1|        34| Brooklyn|  Brooklyn Navy Yard|   Boro Zone|\n",
      "|2020-01-01 01:00:00|  86|            139.21|                   2|              81.0|                    1|        86|   Queens|        Far Rockaway|   Boro Zone|\n",
      "|2020-01-01 01:00:00|  90|              null|                null| 4326.069999999997|                  231|        90|Manhattan|            Flatiron| Yellow Zone|\n",
      "|2020-01-01 01:00:00| 150|54.400000000000006|                   2|              null|                 null|       150| Brooklyn|     Manhattan Beach|   Boro Zone|\n",
      "|2020-01-01 01:00:00| 170|              null|                null|10157.140000000005|                  585|       170|Manhattan|         Murray Hill| Yellow Zone|\n",
      "|2020-01-01 01:00:00| 195|              null|                null|             14.04|                    1|       195| Brooklyn|            Red Hook|   Boro Zone|\n",
      "|2020-01-01 01:00:00| 209|              null|                null|1434.7000000000003|                   63|       209|Manhattan|             Seaport| Yellow Zone|\n",
      "|2020-01-01 01:00:00| 248|              10.8|                   1|              null|                 null|       248|    Bronx|West Farms/Bronx ...|   Boro Zone|\n",
      "|2020-01-01 02:00:00|  29|             32.04|                   2|             46.71|                    1|        29| Brooklyn|      Brighton Beach|   Boro Zone|\n",
      "|2020-01-01 02:00:00|  42| 469.1200000000002|                  33| 950.1200000000002|                   73|        42|Manhattan|Central Harlem North|   Boro Zone|\n",
      "|2020-01-01 02:00:00|  70|              null|                null|              17.1|                    2|        70|   Queens|       East Elmhurst|   Boro Zone|\n",
      "+-------------------+----+------------------+--------------------+------------------+---------------------+----------+---------+--------------------+------------+\n",
      "only showing top 20 rows\n",
      "\n"
     ]
    }
   ],
   "source": [
    "df_result.show()"
   ]
  },
  {
   "cell_type": "code",
   "execution_count": 24,
   "id": "acc95bf0-f324-4499-bd59-322b9febaaa5",
   "metadata": {},
   "outputs": [],
   "source": [
    "df_result.drop('LocationID', 'zone').write.parquet('tmp/revenue-zones')"
   ]
  },
  {
   "cell_type": "code",
   "execution_count": null,
   "id": "69b18217-aeeb-408f-93ce-6ff3b54f3d9d",
   "metadata": {},
   "outputs": [],
   "source": []
  }
 ],
 "metadata": {
  "kernelspec": {
   "display_name": "Python 3 (ipykernel)",
   "language": "python",
   "name": "python3"
  },
  "language_info": {
   "codemirror_mode": {
    "name": "ipython",
    "version": 3
   },
   "file_extension": ".py",
   "mimetype": "text/x-python",
   "name": "python",
   "nbconvert_exporter": "python",
   "pygments_lexer": "ipython3",
   "version": "3.10.10"
  }
 },
 "nbformat": 4,
 "nbformat_minor": 5
}
