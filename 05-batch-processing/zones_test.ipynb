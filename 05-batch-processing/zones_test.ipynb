{
 "cells": [
  {
   "cell_type": "code",
   "execution_count": 1,
   "id": "a86ac1ae-0dbd-4237-9754-ddf0f30db3d2",
   "metadata": {},
   "outputs": [],
   "source": [
    "import pyspark"
   ]
  },
  {
   "cell_type": "code",
   "execution_count": 2,
   "id": "a4dfaa3f-0821-40f3-a80f-4adea0045e40",
   "metadata": {},
   "outputs": [
    {
     "data": {
      "text/plain": [
       "'C:\\\\tools\\\\spark-3.3.2-bin-hadoop3\\\\python\\\\pyspark\\\\__init__.py'"
      ]
     },
     "execution_count": 2,
     "metadata": {},
     "output_type": "execute_result"
    }
   ],
   "source": [
    "pyspark.__file__"
   ]
  },
  {
   "cell_type": "code",
   "execution_count": 4,
   "id": "a8bb8909-16de-4161-91f0-481037faedb4",
   "metadata": {},
   "outputs": [],
   "source": [
    "from pyspark.sql import SparkSession"
   ]
  },
  {
   "cell_type": "code",
   "execution_count": 5,
   "id": "e0c0efe7-1825-440e-92d8-a8f5247fba4e",
   "metadata": {},
   "outputs": [],
   "source": [
    "spark = SparkSession.builder \\\n",
    "    .master(\"local[*]\") \\\n",
    "    .appName('test') \\\n",
    "    .config('spark.ui.port', '4041') \\\n",
    "    .getOrCreate()"
   ]
  },
  {
   "cell_type": "code",
   "execution_count": 6,
   "id": "a252f444-23d0-4589-b446-0bfa3d1f15af",
   "metadata": {},
   "outputs": [
    {
     "name": "stderr",
     "output_type": "stream",
     "text": [
      "--2024-03-13 05:06:26--  https://s3.amazonaws.com/nyc-tlc/misc/taxi+_zone_lookup.csv\n",
      "Resolving s3.amazonaws.com (s3.amazonaws.com)... 16.182.107.144, 52.216.34.176, 54.231.233.104, ...\n",
      "Connecting to s3.amazonaws.com (s3.amazonaws.com)|16.182.107.144|:443... connected.\n",
      "HTTP request sent, awaiting response... 200 OK\n",
      "Length: 12322 (12K) [application/octet-stream]\n",
      "Saving to: 'taxi+_zone_lookup.csv.1'\n",
      "\n",
      "     0K .......... ..                                         100% 3.30M=0.004s\n",
      "\n",
      "2024-03-13 05:06:27 (3.30 MB/s) - 'taxi+_zone_lookup.csv.1' saved [12322/12322]\n",
      "\n"
     ]
    }
   ],
   "source": [
    "!wget https://s3.amazonaws.com/nyc-tlc/misc/taxi+_zone_lookup.csv"
   ]
  },
  {
   "cell_type": "code",
   "execution_count": 7,
   "id": "7ada1114-5fb0-43ad-b3c2-7c6eb5c01e9b",
   "metadata": {},
   "outputs": [
    {
     "name": "stdout",
     "output_type": "stream",
     "text": [
      "\"LocationID\",\"Borough\",\"Zone\",\"service_zone\"\n",
      "1,\"EWR\",\"Newark Airport\",\"EWR\"\n",
      "2,\"Queens\",\"Jamaica Bay\",\"Boro Zone\"\n",
      "3,\"Bronx\",\"Allerton/Pelham Gardens\",\"Boro Zone\"\n",
      "4,\"Manhattan\",\"Alphabet City\",\"Yellow Zone\"\n",
      "5,\"Staten Island\",\"Arden Heights\",\"Boro Zone\"\n",
      "6,\"Staten Island\",\"Arrochar/Fort Wadsworth\",\"Boro Zone\"\n",
      "7,\"Queens\",\"Astoria\",\"Boro Zone\"\n",
      "8,\"Queens\",\"Astoria Park\",\"Boro Zone\"\n",
      "9,\"Queens\",\"Auburndale\",\"Boro Zone\"\n"
     ]
    }
   ],
   "source": [
    "!head taxi+_zone_lookup.csv"
   ]
  },
  {
   "cell_type": "code",
   "execution_count": 8,
   "id": "fd9c3509-12e5-42d1-9eac-d8b66dfb0f5d",
   "metadata": {},
   "outputs": [],
   "source": [
    "df = spark.read \\\n",
    "    .option(\"header\", \"true\") \\\n",
    "    .csv('taxi+_zone_lookup.csv')"
   ]
  },
  {
   "cell_type": "code",
   "execution_count": 9,
   "id": "a5254177-8056-4baa-97ef-92b76b4bb0e0",
   "metadata": {},
   "outputs": [
    {
     "name": "stdout",
     "output_type": "stream",
     "text": [
      "+----------+-------------+--------------------+------------+\n",
      "|LocationID|      Borough|                Zone|service_zone|\n",
      "+----------+-------------+--------------------+------------+\n",
      "|         1|          EWR|      Newark Airport|         EWR|\n",
      "|         2|       Queens|         Jamaica Bay|   Boro Zone|\n",
      "|         3|        Bronx|Allerton/Pelham G...|   Boro Zone|\n",
      "|         4|    Manhattan|       Alphabet City| Yellow Zone|\n",
      "|         5|Staten Island|       Arden Heights|   Boro Zone|\n",
      "|         6|Staten Island|Arrochar/Fort Wad...|   Boro Zone|\n",
      "|         7|       Queens|             Astoria|   Boro Zone|\n",
      "|         8|       Queens|        Astoria Park|   Boro Zone|\n",
      "|         9|       Queens|          Auburndale|   Boro Zone|\n",
      "|        10|       Queens|        Baisley Park|   Boro Zone|\n",
      "|        11|     Brooklyn|          Bath Beach|   Boro Zone|\n",
      "|        12|    Manhattan|        Battery Park| Yellow Zone|\n",
      "|        13|    Manhattan|   Battery Park City| Yellow Zone|\n",
      "|        14|     Brooklyn|           Bay Ridge|   Boro Zone|\n",
      "|        15|       Queens|Bay Terrace/Fort ...|   Boro Zone|\n",
      "|        16|       Queens|             Bayside|   Boro Zone|\n",
      "|        17|     Brooklyn|             Bedford|   Boro Zone|\n",
      "|        18|        Bronx|        Bedford Park|   Boro Zone|\n",
      "|        19|       Queens|           Bellerose|   Boro Zone|\n",
      "|        20|        Bronx|             Belmont|   Boro Zone|\n",
      "+----------+-------------+--------------------+------------+\n",
      "only showing top 20 rows\n",
      "\n"
     ]
    }
   ],
   "source": [
    "df.show()"
   ]
  },
  {
   "cell_type": "code",
   "execution_count": 10,
   "id": "5cf1638d-47aa-43c7-ba63-96841a42df00",
   "metadata": {},
   "outputs": [],
   "source": [
    "df.write.parquet('zones')"
   ]
  },
  {
   "cell_type": "code",
   "execution_count": 11,
   "id": "d8c8793c-6710-4f8d-a751-f125d388fcc2",
   "metadata": {},
   "outputs": [
    {
     "name": "stdout",
     "output_type": "stream",
     "text": [
      "total 833M\n",
      "-rw-r--r-- 1 user 197121 246K Mar  3 15:38 04_pyspark.ipynb\n",
      "-rw-r--r-- 1 user 197121  18K Mar  5 23:53 05_taxi_schema.ipynb\n",
      "-rw-r--r-- 1 user 197121  20K Mar  6 02:40 06_spark_sql.ipynb\n",
      "-rw-r--r-- 1 user 197121  12K Mar 13 05:01 07_groupby_join.ipynb\n",
      "-rw-r--r-- 1 user 197121  837 Mar  2 22:56 SparkScripts.sh\n",
      "drwxr-xr-x 1 user 197121    0 Mar  6 02:30 data\n",
      "-rw-r--r-- 1 user 197121  542 Mar  3 23:47 download_data.sh\n",
      "-rw-r--r-- 1 user 197121 115M Nov 21  2022 fhv_tripdata_2019-10.csv\n",
      "drwxr-xr-x 1 user 197121    0 Mar  3 12:30 fhvhv\n",
      "-rw-r--r-- 1 user 197121 718M Jul 14  2022 fhvhv_tripdata_2021-01.csv\n",
      "-rw-r--r-- 1 user 197121 6.3K Mar  3 15:32 head.csv\n",
      "-rw-r--r-- 1 user 197121 6.4K Mar  6 03:24 head_october.csv\n",
      "-rw-r--r-- 1 user 197121    0 Mar  6 03:19 head_october.parquet\n",
      "drwxr-xr-x 1 user 197121    0 Mar  6 03:41 homework\n",
      "drwxr-xr-x 1 user 197121    0 Mar  6 03:43 spark-warehouse\n",
      "-rw-r--r-- 1 user 197121  13K Jan 29 08:54 taxi+_zone_lookup.csv\n",
      "-rw-r--r-- 1 user 197121  13K Aug 17  2016 taxi+_zone_lookup.csv.1\n",
      "-rw-r--r-- 1 user 197121  16K Mar 11 00:30 week_5_homework_solution.ipynb\n",
      "drwxr-xr-x 1 user 197121    0 Mar 13 05:07 zones\n",
      "-rw-r--r-- 1 user 197121 3.9K Mar 13 05:06 zones_test.ipynb\n"
     ]
    }
   ],
   "source": [
    "!ls -lh"
   ]
  },
  {
   "cell_type": "code",
   "execution_count": null,
   "id": "b9466a20-e1a4-4ab3-873f-e67b853853e3",
   "metadata": {},
   "outputs": [],
   "source": []
  }
 ],
 "metadata": {
  "kernelspec": {
   "display_name": "Python 3 (ipykernel)",
   "language": "python",
   "name": "python3"
  },
  "language_info": {
   "codemirror_mode": {
    "name": "ipython",
    "version": 3
   },
   "file_extension": ".py",
   "mimetype": "text/x-python",
   "name": "python",
   "nbconvert_exporter": "python",
   "pygments_lexer": "ipython3",
   "version": "3.10.10"
  }
 },
 "nbformat": 4,
 "nbformat_minor": 5
}
