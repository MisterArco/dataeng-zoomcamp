{
 "cells": [
  {
   "cell_type": "code",
   "execution_count": 1,
   "id": "a15115b3-eacc-4809-abe7-e2a47667db11",
   "metadata": {},
   "outputs": [],
   "source": [
    "import pyspark\n",
    "import pandas as pd\n",
    "from pyspark.sql import SparkSession"
   ]
  },
  {
   "cell_type": "code",
   "execution_count": 7,
   "id": "a1a6694d-7159-478d-808f-c1454bba7770",
   "metadata": {},
   "outputs": [],
   "source": [
    "import os\n",
    "import sys\n",
    "\n",
    "os.environ['PYSPARK_PYTHON'] = sys.executable\n",
    "os.environ['PYSPARK_DRIVER_PYTHON'] = sys.executable"
   ]
  },
  {
   "cell_type": "code",
   "execution_count": 8,
   "id": "352385cd-f15f-4352-950a-27eb906b8100",
   "metadata": {},
   "outputs": [],
   "source": [
    "spark = SparkSession.builder \\\n",
    "    .master(\"local[*]\") \\\n",
    "    .appName('Homework') \\\n",
    "    .getOrCreate()"
   ]
  },
  {
   "cell_type": "code",
   "execution_count": 22,
   "id": "7973075f-6b45-4eef-972c-67b9473a0de7",
   "metadata": {},
   "outputs": [],
   "source": [
    "df = spark.read \\\n",
    "    .option(\"header\", \"true\") \\\n",
    "    .csv('fhv_tripdata_2019-10.csv')"
   ]
  },
  {
   "cell_type": "code",
   "execution_count": 23,
   "id": "cda67e3c-d0a1-478b-a30c-ce39b6002a8a",
   "metadata": {},
   "outputs": [
    {
     "data": {
      "text/plain": [
       "StructType([StructField('dispatching_base_num', StringType(), True), StructField('pickup_datetime', StringType(), True), StructField('dropOff_datetime', StringType(), True), StructField('PUlocationID', StringType(), True), StructField('DOlocationID', StringType(), True), StructField('SR_Flag', StringType(), True), StructField('Affiliated_base_number', StringType(), True)])"
      ]
     },
     "execution_count": 23,
     "metadata": {},
     "output_type": "execute_result"
    }
   ],
   "source": [
    "df.schema"
   ]
  },
  {
   "cell_type": "code",
   "execution_count": 24,
   "id": "f8753612-afe7-415b-87f8-ed3cdb56f51b",
   "metadata": {},
   "outputs": [],
   "source": [
    "!head -n 101 fhv_tripdata_2019-10.csv > head_october.csv"
   ]
  },
  {
   "cell_type": "code",
   "execution_count": 26,
   "id": "6c9356c5-fc20-45ab-8cae-88671687a2ab",
   "metadata": {},
   "outputs": [
    {
     "name": "stdout",
     "output_type": "stream",
     "text": [
      "101 head_october.csv\n"
     ]
    }
   ],
   "source": [
    "!wc -l head_october.csv"
   ]
  },
  {
   "cell_type": "code",
   "execution_count": 27,
   "id": "6f3d0cf6-0bda-401a-a7f6-a6290605ecaa",
   "metadata": {},
   "outputs": [],
   "source": [
    "df_pandas = pd.read_csv('head_october.csv')"
   ]
  },
  {
   "cell_type": "code",
   "execution_count": 28,
   "id": "844263ba-c673-4c9d-81ae-85b38135a396",
   "metadata": {},
   "outputs": [
    {
     "data": {
      "text/html": [
       "<div>\n",
       "<style scoped>\n",
       "    .dataframe tbody tr th:only-of-type {\n",
       "        vertical-align: middle;\n",
       "    }\n",
       "\n",
       "    .dataframe tbody tr th {\n",
       "        vertical-align: top;\n",
       "    }\n",
       "\n",
       "    .dataframe thead th {\n",
       "        text-align: right;\n",
       "    }\n",
       "</style>\n",
       "<table border=\"1\" class=\"dataframe\">\n",
       "  <thead>\n",
       "    <tr style=\"text-align: right;\">\n",
       "      <th></th>\n",
       "      <th>dispatching_base_num</th>\n",
       "      <th>pickup_datetime</th>\n",
       "      <th>dropOff_datetime</th>\n",
       "      <th>PUlocationID</th>\n",
       "      <th>DOlocationID</th>\n",
       "      <th>SR_Flag</th>\n",
       "      <th>Affiliated_base_number</th>\n",
       "    </tr>\n",
       "  </thead>\n",
       "  <tbody>\n",
       "    <tr>\n",
       "      <th>0</th>\n",
       "      <td>B00009</td>\n",
       "      <td>2019-10-01 00:23:00</td>\n",
       "      <td>2019-10-01 00:35:00</td>\n",
       "      <td>264</td>\n",
       "      <td>264</td>\n",
       "      <td>NaN</td>\n",
       "      <td>B00009</td>\n",
       "    </tr>\n",
       "    <tr>\n",
       "      <th>1</th>\n",
       "      <td>B00013</td>\n",
       "      <td>2019-10-01 00:11:29</td>\n",
       "      <td>2019-10-01 00:13:22</td>\n",
       "      <td>264</td>\n",
       "      <td>264</td>\n",
       "      <td>NaN</td>\n",
       "      <td>B00013</td>\n",
       "    </tr>\n",
       "    <tr>\n",
       "      <th>2</th>\n",
       "      <td>B00014</td>\n",
       "      <td>2019-10-01 00:11:43</td>\n",
       "      <td>2019-10-01 00:37:20</td>\n",
       "      <td>264</td>\n",
       "      <td>264</td>\n",
       "      <td>NaN</td>\n",
       "      <td>B00014</td>\n",
       "    </tr>\n",
       "    <tr>\n",
       "      <th>3</th>\n",
       "      <td>B00014</td>\n",
       "      <td>2019-10-01 00:56:29</td>\n",
       "      <td>2019-10-01 00:57:47</td>\n",
       "      <td>264</td>\n",
       "      <td>264</td>\n",
       "      <td>NaN</td>\n",
       "      <td>B00014</td>\n",
       "    </tr>\n",
       "    <tr>\n",
       "      <th>4</th>\n",
       "      <td>B00014</td>\n",
       "      <td>2019-10-01 00:23:09</td>\n",
       "      <td>2019-10-01 00:28:27</td>\n",
       "      <td>264</td>\n",
       "      <td>264</td>\n",
       "      <td>NaN</td>\n",
       "      <td>B00014</td>\n",
       "    </tr>\n",
       "    <tr>\n",
       "      <th>...</th>\n",
       "      <td>...</td>\n",
       "      <td>...</td>\n",
       "      <td>...</td>\n",
       "      <td>...</td>\n",
       "      <td>...</td>\n",
       "      <td>...</td>\n",
       "      <td>...</td>\n",
       "    </tr>\n",
       "    <tr>\n",
       "      <th>95</th>\n",
       "      <td>B00310</td>\n",
       "      <td>2019-10-01 00:06:02</td>\n",
       "      <td>2019-10-01 00:14:04</td>\n",
       "      <td>264</td>\n",
       "      <td>242</td>\n",
       "      <td>NaN</td>\n",
       "      <td>B00310</td>\n",
       "    </tr>\n",
       "    <tr>\n",
       "      <th>96</th>\n",
       "      <td>B00310</td>\n",
       "      <td>2019-10-01 00:03:43</td>\n",
       "      <td>2019-10-01 00:07:26</td>\n",
       "      <td>264</td>\n",
       "      <td>213</td>\n",
       "      <td>NaN</td>\n",
       "      <td>B02534</td>\n",
       "    </tr>\n",
       "    <tr>\n",
       "      <th>97</th>\n",
       "      <td>B00310</td>\n",
       "      <td>2019-10-01 00:37:14</td>\n",
       "      <td>2019-10-01 00:51:58</td>\n",
       "      <td>264</td>\n",
       "      <td>241</td>\n",
       "      <td>NaN</td>\n",
       "      <td>B02879</td>\n",
       "    </tr>\n",
       "    <tr>\n",
       "      <th>98</th>\n",
       "      <td>B00310</td>\n",
       "      <td>2019-10-01 00:42:41</td>\n",
       "      <td>2019-10-01 00:54:42</td>\n",
       "      <td>264</td>\n",
       "      <td>213</td>\n",
       "      <td>NaN</td>\n",
       "      <td>B02875</td>\n",
       "    </tr>\n",
       "    <tr>\n",
       "      <th>99</th>\n",
       "      <td>B00310</td>\n",
       "      <td>2019-10-01 00:15:57</td>\n",
       "      <td>2019-10-01 00:18:27</td>\n",
       "      <td>264</td>\n",
       "      <td>147</td>\n",
       "      <td>NaN</td>\n",
       "      <td>B02879</td>\n",
       "    </tr>\n",
       "  </tbody>\n",
       "</table>\n",
       "<p>100 rows × 7 columns</p>\n",
       "</div>"
      ],
      "text/plain": [
       "   dispatching_base_num      pickup_datetime     dropOff_datetime  \\\n",
       "0                B00009  2019-10-01 00:23:00  2019-10-01 00:35:00   \n",
       "1                B00013  2019-10-01 00:11:29  2019-10-01 00:13:22   \n",
       "2                B00014  2019-10-01 00:11:43  2019-10-01 00:37:20   \n",
       "3                B00014  2019-10-01 00:56:29  2019-10-01 00:57:47   \n",
       "4                B00014  2019-10-01 00:23:09  2019-10-01 00:28:27   \n",
       "..                  ...                  ...                  ...   \n",
       "95               B00310  2019-10-01 00:06:02  2019-10-01 00:14:04   \n",
       "96               B00310  2019-10-01 00:03:43  2019-10-01 00:07:26   \n",
       "97               B00310  2019-10-01 00:37:14  2019-10-01 00:51:58   \n",
       "98               B00310  2019-10-01 00:42:41  2019-10-01 00:54:42   \n",
       "99               B00310  2019-10-01 00:15:57  2019-10-01 00:18:27   \n",
       "\n",
       "    PUlocationID  DOlocationID  SR_Flag Affiliated_base_number  \n",
       "0            264           264      NaN                 B00009  \n",
       "1            264           264      NaN                 B00013  \n",
       "2            264           264      NaN                 B00014  \n",
       "3            264           264      NaN                 B00014  \n",
       "4            264           264      NaN                 B00014  \n",
       "..           ...           ...      ...                    ...  \n",
       "95           264           242      NaN                 B00310  \n",
       "96           264           213      NaN                 B02534  \n",
       "97           264           241      NaN                 B02879  \n",
       "98           264           213      NaN                 B02875  \n",
       "99           264           147      NaN                 B02879  \n",
       "\n",
       "[100 rows x 7 columns]"
      ]
     },
     "execution_count": 28,
     "metadata": {},
     "output_type": "execute_result"
    }
   ],
   "source": [
    "df_pandas"
   ]
  },
  {
   "cell_type": "code",
   "execution_count": 30,
   "id": "557ac4b3-e715-4063-b7cf-f5a88a380b11",
   "metadata": {},
   "outputs": [],
   "source": [
    "from pyspark.sql import types"
   ]
  },
  {
   "cell_type": "code",
   "execution_count": 43,
   "id": "df887a3d-72fe-422b-b766-a91af570c50b",
   "metadata": {},
   "outputs": [],
   "source": [
    "schema = types.StructType([\n",
    "    types.StructField('hvfhs_license_num', types.StringType(), True),\n",
    "    types.StructField('dispatching_base_num', types.StringType(), True),\n",
    "    types.StructField('pickup_datetime', types.TimestampType(), True),\n",
    "    types.StructField('dropoff_datetime', types.TimestampType(), True),\n",
    "    types.StructField('PULocationID', types.IntegerType(), True),\n",
    "    types.StructField('DOLocationID', types.IntegerType(), True),\n",
    "    types.StructField('SR_Flag', types.StringType(), True)\n",
    "])"
   ]
  },
  {
   "cell_type": "code",
   "execution_count": 45,
   "id": "bc52e214-be35-4253-9681-b2d52b8ba0ff",
   "metadata": {},
   "outputs": [],
   "source": [
    "df = spark.read \\\n",
    "    .option(\"header\", \"true\") \\\n",
    "    .schema(schema) \\\n",
    "    .csv('fhv_tripdata_2019-10.csv')"
   ]
  },
  {
   "cell_type": "code",
   "execution_count": 46,
   "id": "4dae72aa-a458-4b5c-9391-cf56d900c352",
   "metadata": {},
   "outputs": [],
   "source": [
    "df = df.repartition(6)"
   ]
  },
  {
   "cell_type": "code",
   "execution_count": 47,
   "id": "896f9111-8f39-4efa-8595-a19ba4c606da",
   "metadata": {},
   "outputs": [],
   "source": [
    "df.write.parquet('homework/', mode='overwrite')"
   ]
  },
  {
   "cell_type": "code",
   "execution_count": 48,
   "id": "0f64ded3-5032-43fd-a37a-bea17c571da8",
   "metadata": {},
   "outputs": [],
   "source": [
    "df = spark.read.parquet('homework/')"
   ]
  },
  {
   "cell_type": "code",
   "execution_count": 82,
   "id": "d7f327d5-24ab-47ad-901b-27a4eadcdd52",
   "metadata": {},
   "outputs": [
    {
     "name": "stdout",
     "output_type": "stream",
     "text": [
      "root\n",
      " |-- hvfhs_license_num: string (nullable = true)\n",
      " |-- dispatching_base_num: string (nullable = true)\n",
      " |-- pickup_datetime: timestamp (nullable = true)\n",
      " |-- dropoff_datetime: timestamp (nullable = true)\n",
      " |-- PULocationID: integer (nullable = true)\n",
      " |-- DOLocationID: integer (nullable = true)\n",
      " |-- SR_Flag: string (nullable = true)\n",
      "\n"
     ]
    }
   ],
   "source": [
    "df.printSchema()"
   ]
  },
  {
   "cell_type": "code",
   "execution_count": 94,
   "id": "8747bc70-eabd-4cdd-b594-617cb80b58de",
   "metadata": {},
   "outputs": [],
   "source": [
    "df.createOrReplaceTempView('fhv_october_data')"
   ]
  },
  {
   "cell_type": "code",
   "execution_count": 95,
   "id": "b77c8246-95c4-4379-b9c9-d79fc25b0594",
   "metadata": {},
   "outputs": [
    {
     "name": "stdout",
     "output_type": "stream",
     "text": [
      "+--------+\n",
      "|count(1)|\n",
      "+--------+\n",
      "|   62295|\n",
      "+--------+\n",
      "\n"
     ]
    }
   ],
   "source": [
    "spark.sql(\"\"\"\n",
    "SELECT\n",
    "    count(1)\n",
    "FROM\n",
    "    fhv_october_data\n",
    "WHERE\n",
    "    DATE(pickup_datetime) = '2019-10-15'\n",
    "\"\"\").show()"
   ]
  },
  {
   "cell_type": "code",
   "execution_count": 96,
   "id": "b968d771-e6fa-41de-ac0a-d4918fb1d892",
   "metadata": {},
   "outputs": [
    {
     "name": "stdout",
     "output_type": "stream",
     "text": [
      "+-------------------+\n",
      "|trip_duration_hours|\n",
      "+-------------------+\n",
      "|               null|\n",
      "|               null|\n",
      "|               null|\n",
      "|               null|\n",
      "|               null|\n",
      "|               null|\n",
      "|               null|\n",
      "|               null|\n",
      "|               null|\n",
      "|               null|\n",
      "|               null|\n",
      "|               null|\n",
      "|               null|\n",
      "|               null|\n",
      "|               null|\n",
      "|               null|\n",
      "|               null|\n",
      "|               null|\n",
      "|               null|\n",
      "|               null|\n",
      "+-------------------+\n",
      "only showing top 20 rows\n",
      "\n"
     ]
    }
   ],
   "source": [
    "spark.sql(\"\"\"\n",
    "    SELECT \n",
    "        CAST(dropoff_datetime - pickup_datetime AS INTERVAL HOUR) AS trip_duration_hours\n",
    "    FROM\n",
    "        fhv_october_data\n",
    "    ORDER BY\n",
    "        trip_duration_hours DESC\n",
    "\"\"\").show()"
   ]
  },
  {
   "cell_type": "code",
   "execution_count": 3,
   "id": "1dc7a792-2a44-4570-bbbb-498290c5786e",
   "metadata": {},
   "outputs": [
    {
     "data": {
      "text/plain": [
       "<module 'pyspark.version' from 'C:\\\\tools\\\\spark-3.3.2-bin-hadoop3\\\\python\\\\pyspark\\\\version.py'>"
      ]
     },
     "execution_count": 3,
     "metadata": {},
     "output_type": "execute_result"
    }
   ],
   "source": [
    "pyspark.version"
   ]
  },
  {
   "cell_type": "code",
   "execution_count": 6,
   "id": "f78f8aa4-892c-413f-ba41-cabb085811e3",
   "metadata": {},
   "outputs": [
    {
     "data": {
      "text/plain": [
       "'3.3.2'"
      ]
     },
     "execution_count": 6,
     "metadata": {},
     "output_type": "execute_result"
    }
   ],
   "source": [
    "pyspark.__version__"
   ]
  },
  {
   "cell_type": "code",
   "execution_count": null,
   "id": "a0476178-642d-4180-b003-83b9d8368cb1",
   "metadata": {},
   "outputs": [],
   "source": []
  }
 ],
 "metadata": {
  "kernelspec": {
   "display_name": "Python 3 (ipykernel)",
   "language": "python",
   "name": "python3"
  },
  "language_info": {
   "codemirror_mode": {
    "name": "ipython",
    "version": 3
   },
   "file_extension": ".py",
   "mimetype": "text/x-python",
   "name": "python",
   "nbconvert_exporter": "python",
   "pygments_lexer": "ipython3",
   "version": "3.10.10"
  }
 },
 "nbformat": 4,
 "nbformat_minor": 5
}
